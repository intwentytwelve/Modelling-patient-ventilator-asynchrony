{
  "nbformat": 4,
  "nbformat_minor": 0,
  "metadata": {
    "colab": {
      "name": "Untitled14.ipynb",
      "provenance": [],
      "authorship_tag": "ABX9TyNU9N3NzXTA5pWjGVAvwspR",
      "include_colab_link": true
    },
    "kernelspec": {
      "display_name": "Python 3",
      "name": "python3"
    },
    "language_info": {
      "name": "python"
    }
  },
  "cells": [
    {
      "cell_type": "markdown",
      "metadata": {
        "id": "view-in-github",
        "colab_type": "text"
      },
      "source": [
        "<a href=\"https://colab.research.google.com/github/intwentytwelve/Modelling-patient-ventilator-asynchrony/blob/main/PVA.ipynb\" target=\"_parent\"><img src=\"https://colab.research.google.com/assets/colab-badge.svg\" alt=\"Open In Colab\"/></a>"
      ]
    },
    {
      "cell_type": "code",
      "metadata": {
        "id": "Nx711KrP2En5"
      },
      "source": [
        "#Load flows and pressures which all contain 800 timeseries within a single breath with 0s supplimented for those less than 800\n",
        "import numpy as np\n",
        "flow=np.load('flow.npy')\n",
        "pressure=np.load('pressure.npy')"
      ],
      "execution_count": null,
      "outputs": []
    },
    {
      "cell_type": "code",
      "metadata": {
        "id": "znEu4Ebf2-Pp"
      },
      "source": [
        "#Process of getting the real length of each breath\n",
        "zero_first=[]\n",
        "for i in range(len(flow)):\n",
        "  zero_index=[]\n",
        "  for j in range(len(flow[i])):\n",
        "    if flow[i][j]==0:\n",
        "      zero_index.append(j)\n",
        "  zero_first.append(zero_index[0])"
      ],
      "execution_count": null,
      "outputs": []
    },
    {
      "cell_type": "code",
      "metadata": {
        "id": "zR2jCgam0aS2"
      },
      "source": [
        "#Abandon the breaths that are shorter than 100 timeseries which cause errors in the following time-series forecasting\n",
        "invalid=[]\n",
        "for i in range(len(zero_first)):\n",
        "  if zero_first[i]<100:\n",
        "    invalid.append(i)"
      ],
      "execution_count": null,
      "outputs": []
    },
    {
      "cell_type": "code",
      "metadata": {
        "id": "axe7WWEEDTxd"
      },
      "source": [
        "def one_hot(trainy):\n",
        "# return the one_hot data for the trainy\n",
        "# 0 for normal data while 1 for PVA\n",
        "    d=list()\n",
        "    for i in trainy:\n",
        "        if 1 in i:    \n",
        "            i = 1\n",
        "            d.append(i)\n",
        "        else:\n",
        "            i=0\n",
        "            d.append(i)\n",
        "    d = np.array(d).reshape (len(d),1)   \n",
        "    return d\n"
      ],
      "execution_count": null,
      "outputs": []
    },
    {
      "cell_type": "code",
      "metadata": {
        "id": "dIKe05hoDuU7"
      },
      "source": [
        "trainY = np.load('trainy_all.npy')\n",
        "Trainy = one_hot(trainY)"
      ],
      "execution_count": null,
      "outputs": []
    },
    {
      "cell_type": "code",
      "metadata": {
        "id": "1ezCpqz9HthT"
      },
      "source": [
        "#Process of getting indices of all PVA\n",
        "abindex=[]\n",
        "for i in range(len(Trainy)):\n",
        "  if Trainy[i]==1:\n",
        "    abindex.append(i)\n"
      ],
      "execution_count": null,
      "outputs": []
    },
    {
      "cell_type": "code",
      "metadata": {
        "id": "cMNC9zHQhczp"
      },
      "source": [
        "#Concatenation of all normal breaths\n",
        "normal_flow=[]\n",
        "normal_pressure=[]\n",
        "for i in range(len(flow)):\n",
        "  if i not in abindex and i not in invalid:\n",
        "    normal_flow.append(flow[i])\n",
        "    normal_pressure.append(pressure[i])"
      ],
      "execution_count": null,
      "outputs": []
    },
    {
      "cell_type": "code",
      "metadata": {
        "id": "ds_sVOo__eGJ"
      },
      "source": [
        "#Concatenation of all PVA\n",
        "abnormal_flow=[]\n",
        "abnormal_pressure=[]\n",
        "for i in range(len(flow)):\n",
        "  if i in abindex and i not in invalid:\n",
        "    abnormal_flow.append(flow[i])\n",
        "    abnormal_pressure.append(pressure[i])"
      ],
      "execution_count": null,
      "outputs": []
    },
    {
      "cell_type": "code",
      "metadata": {
        "id": "JH3L2f8Pxcxo"
      },
      "source": [
        "#Process of getting real lengths of valid PVA\n",
        "zero_abnormalfirst=[]\n",
        "for i in range(len(abnormal_flow)):\n",
        "  zero_abnormalindex=[]\n",
        "  for j in range(len(abnormal_flow[i])):\n",
        "    if abnormal_flow[i][j]==0:\n",
        "      zero_abnormalindex.append(j)\n",
        "  zero_abnormalfirst.append(zero_abnormalindex[0])"
      ],
      "execution_count": null,
      "outputs": []
    },
    {
      "cell_type": "code",
      "metadata": {
        "id": "O1hFvz9cyHiI"
      },
      "source": [
        "#Concatenation of all valid PVA\n",
        "flow_abnormal=[]\n",
        "pressure_abnormal=[]\n",
        "for i in range(len(zero_abnormalfirst)):\n",
        "  flow_abnormal.append(abnormal_flow[i][:zero_abnormalfirst[i]])\n",
        "  pressure_abnormal.append(abnormal_pressure[i][:zero_abnormalfirst[i]])"
      ],
      "execution_count": null,
      "outputs": []
    },
    {
      "cell_type": "code",
      "metadata": {
        "colab": {
          "base_uri": "https://localhost:8080/"
        },
        "id": "i_h4hY6wyd7s",
        "outputId": "44d176b7-bfd6-4b1e-c1c2-b273b5223849"
      },
      "source": [
        "breath_abflow=np.hstack(flow_abnormal)\n",
        "breath_abpressure=np.hstack(pressure_abnormal)\n",
        "abdataset = np.stack((breath_abflow,breath_abpressure),axis=1)\n",
        "abdataset.astype('float32')"
      ],
      "execution_count": null,
      "outputs": [
        {
          "output_type": "execute_result",
          "data": {
            "text/plain": [
              "array([[ 2.24,  5.14],\n",
              "       [ 7.75,  5.26],\n",
              "       [29.54,  6.54],\n",
              "       ...,\n",
              "       [-3.09, 16.63],\n",
              "       [-0.04, 16.44],\n",
              "       [ 1.96, 16.13]], dtype=float32)"
            ]
          },
          "metadata": {
            "tags": []
          },
          "execution_count": 14
        }
      ]
    },
    {
      "cell_type": "code",
      "metadata": {
        "id": "qT6ow9-dMwi_"
      },
      "source": [
        "#Process of getting real lengths of valid normal breaths\n",
        "zero_normalfirst=[]\n",
        "for i in range(len(normal_flow)):\n",
        "  zero_normalindex=[]\n",
        "  for j in range(len(normal_flow[i])):\n",
        "    if normal_flow[i][j]==0:\n",
        "      zero_normalindex.append(j)\n",
        "  zero_normalfirst.append(zero_normalindex[0])"
      ],
      "execution_count": null,
      "outputs": []
    },
    {
      "cell_type": "code",
      "metadata": {
        "id": "DRZ0lXzOUcZ5"
      },
      "source": [
        "normal_index=zero_normalfirst[:]\n",
        "normal_index.insert(0,0)"
      ],
      "execution_count": null,
      "outputs": []
    },
    {
      "cell_type": "code",
      "metadata": {
        "colab": {
          "base_uri": "https://localhost:8080/"
        },
        "id": "Wi3ZucCEsUf8",
        "outputId": "bd1d5d09-0830-479a-8451-198bdee12e30"
      },
      "source": [
        "all_len=0\n",
        "for i in zero_normalfirst:\n",
        "  all_len+=i\n",
        "averlen=int(all_len/len(zero_normalfirst))\n",
        "averlen"
      ],
      "execution_count": null,
      "outputs": [
        {
          "output_type": "execute_result",
          "data": {
            "text/plain": [
              "158"
            ]
          },
          "metadata": {
            "tags": []
          },
          "execution_count": 36
        }
      ]
    },
    {
      "cell_type": "code",
      "metadata": {
        "id": "IUkHmEU-T_rg"
      },
      "source": [
        "#Concatenation of all normal breaths\n",
        "flow_normal=[]\n",
        "pressure_normal=[]\n",
        "for i in range(len(zero_normalfirst)):\n",
        "  flow_normal.append(normal_flow[i][:zero_normalfirst[i]])\n",
        "  pressure_normal.append(normal_pressure[i][:zero_normalfirst[i]])"
      ],
      "execution_count": null,
      "outputs": []
    },
    {
      "cell_type": "code",
      "metadata": {
        "colab": {
          "base_uri": "https://localhost:8080/"
        },
        "id": "LfZqiMMqaStO",
        "outputId": "b69ead72-cd8b-474d-e161-1a30b4df3496"
      },
      "source": [
        "#How many timeseries training process needs\n",
        "train_len=0\n",
        "for i in range(0,3862):\n",
        "  train_len+=len(flow_normal[i])\n",
        "print(train_len)"
      ],
      "execution_count": null,
      "outputs": [
        {
          "output_type": "stream",
          "text": [
            "593449\n"
          ],
          "name": "stdout"
        }
      ]
    },
    {
      "cell_type": "code",
      "metadata": {
        "colab": {
          "base_uri": "https://localhost:8080/"
        },
        "id": "zzRj88iy70t0",
        "outputId": "7d7630ec-3025-4ba0-db6f-7546c2851d5c"
      },
      "source": [
        "#Only normal breaths with a total of 3,862 data\n",
        "breath_flow=np.hstack(flow_normal[:3862])\n",
        "breath_pressure=np.hstack(pressure_normal[:3862])\n",
        "dataset = np.stack((breath_flow,breath_pressure),axis=1)\n",
        "dataset.astype('float32')"
      ],
      "execution_count": null,
      "outputs": [
        {
          "output_type": "execute_result",
          "data": {
            "text/plain": [
              "array([[ 2.14,  5.22],\n",
              "       [ 8.2 ,  5.32],\n",
              "       [30.28,  6.58],\n",
              "       ...,\n",
              "       [-3.14,  9.97],\n",
              "       [-2.95,  9.95],\n",
              "       [-2.73, 10.18]], dtype=float32)"
            ]
          },
          "metadata": {
            "tags": []
          },
          "execution_count": 16
        }
      ]
    },
    {
      "cell_type": "code",
      "metadata": {
        "id": "r7wXBEFFYa70"
      },
      "source": [
        "dataset_train_split = int(dataset.shape[0] * 0.7) # 70% training data\n",
        "dataset_val_split = dataset_train_split + int(dataset.shape[0] * 0.2) #20% Val data\n",
        "dataset_test_split = dataset_val_split + int(dataset.shape[0] * 0.1) #10% test data"
      ],
      "execution_count": null,
      "outputs": []
    },
    {
      "cell_type": "code",
      "metadata": {
        "id": "d028qX1SFGBH"
      },
      "source": [
        "#Normalizing each timeseries independently so that they all take small values on a similar scale\n",
        "mean=dataset[:dataset_train_split].mean(axis=0)\n",
        "dataset -= mean\n",
        "std = dataset[:dataset_train_split].std(axis=0)\n",
        "dataset /=std"
      ],
      "execution_count": null,
      "outputs": []
    },
    {
      "cell_type": "code",
      "metadata": {
        "id": "QQ_sa4CyjpOz"
      },
      "source": [
        "def generator(data, lookback, delay, min_index, max_index,shuffle=False, batch_size=128, step=19):\n",
        "  #A generator that takes the current array of float data and yields batches of data from the recent past, along with target flow and pressure in the future\n",
        "    if max_index is None:\n",
        "        max_index = len(data) - 1 - 1 \n",
        "    i = min_index + lookback\n",
        "    while 1:\n",
        "        if shuffle:\n",
        "            rows = np.random.randint(min_index + lookback, max_index, size=batch_size)\n",
        "        else:\n",
        "            if i + batch_size >= max_index: \n",
        "                i = min_index + lookback\n",
        "            rows = np.arange(i, min(i + batch_size, max_index))\n",
        "            i += len(rows)\n",
        "        samples = np.zeros((len(rows),lookback//step,data.shape[-1]))\n",
        "        targets1 = np.zeros((len(rows),2))\n",
        "        #targets2 = np.zeros((len(rows),))\n",
        "        for j, row in enumerate(rows):\n",
        "            indices = range(rows[j] - lookback, rows[j], step)\n",
        "            #print(indices)\n",
        "            samples[j] = data[indices]\n",
        "            #print(data[indices])\n",
        "            #print(samples[j])\n",
        "            targets1[j][0] = data[rows[j]][0]\n",
        "            targets1[j][1] = data[rows[j]][1]\n",
        "            #print(targets[j])\n",
        "            #return indices\n",
        "        #print(1)\n",
        "        yield samples, targets1"
      ],
      "execution_count": null,
      "outputs": []
    },
    {
      "cell_type": "code",
      "metadata": {
        "id": "35pw4mAHljPc"
      },
      "source": [
        "lookback = 19    #The number of timesteps back the input data should go\n",
        "step = 1         #The number of observations within one period\n",
        "delay = 19       #How many timesteps the predicted target will be in the future\n",
        "batch_size = 128\n",
        "train_gen = generator(dataset,lookback=lookback,delay=delay,min_index=0,max_index=dataset_train_split,step=step,batch_size=batch_size)\n",
        "val_gen = generator(dataset,lookback=lookback,delay=delay,min_index=dataset_train_split+1 ,max_index=dataset_val_split,step=step,batch_size=batch_size)\n",
        "test_gen = generator(dataset,lookback=lookback,delay=delay,min_index=dataset_val_split+1 ,max_index=None,step=step,batch_size=batch_size)"
      ],
      "execution_count": null,
      "outputs": []
    },
    {
      "cell_type": "code",
      "metadata": {
        "colab": {
          "base_uri": "https://localhost:8080/"
        },
        "id": "iLnNWVDvtELi",
        "outputId": "1d9bd6d1-8a60-42ef-90c0-4ddc79c03ba4"
      },
      "source": [
        "val_steps = (dataset_val_split -(dataset_train_split + 1) - lookback)\n",
        "print(val_steps)\n",
        "test_steps = (len(dataset) - (dataset_val_split + 1) - lookback)"
      ],
      "execution_count": null,
      "outputs": [
        {
          "output_type": "stream",
          "text": [
            "118669\n"
          ],
          "name": "stdout"
        }
      ]
    },
    {
      "cell_type": "code",
      "metadata": {
        "colab": {
          "base_uri": "https://localhost:8080/"
        },
        "id": "uG1ndn64lQFI",
        "outputId": "c8ad5ef1-dee6-47b3-ab4c-25480e5ae753"
      },
      "source": [
        "from keras.models import Sequential\n",
        "from keras import layers\n",
        "from keras.optimizers import RMSprop\n",
        "import tensorflow as tf\n",
        "#1D CNN for normal breaths in actual data\n",
        "model = Sequential()\n",
        "model.add(layers.Conv1D(64, 5, activation='relu',input_shape=(None, dataset.shape[-1])))\n",
        "model.add(layers.MaxPooling1D(3))\n",
        "model.add(layers.Conv1D(128, 5, activation='relu'))\n",
        "model.add(layers.GlobalMaxPooling1D())\n",
        "model.add(layers.Dense(2,activation='linear'))\n",
        "model.compile(optimizer=RMSprop(), loss='mse',metrics=[tf.keras.metrics.MeanSquaredLogarithmicError()])\n",
        "history = model.fit(train_gen,steps_per_epoch=1000,epochs=10,validation_data=val_gen,validation_steps=val_steps)"
      ],
      "execution_count": null,
      "outputs": [
        {
          "output_type": "stream",
          "text": [
            "Epoch 1/10\n",
            "1000/1000 [==============================] - 539s 539ms/step - loss: 0.0950 - mean_squared_logarithmic_error: 0.0125 - val_loss: 0.1088 - val_mean_squared_logarithmic_error: 0.0132\n",
            "Epoch 2/10\n",
            "1000/1000 [==============================] - 533s 534ms/step - loss: 0.0324 - mean_squared_logarithmic_error: 0.0036 - val_loss: 0.0534 - val_mean_squared_logarithmic_error: 0.0079\n",
            "Epoch 3/10\n",
            "1000/1000 [==============================] - 539s 539ms/step - loss: 0.0209 - mean_squared_logarithmic_error: 0.0019 - val_loss: 0.1163 - val_mean_squared_logarithmic_error: 0.0157\n",
            "Epoch 4/10\n",
            "1000/1000 [==============================] - 535s 536ms/step - loss: 0.0303 - mean_squared_logarithmic_error: 0.0035 - val_loss: 0.0712 - val_mean_squared_logarithmic_error: 0.0119\n",
            "Epoch 5/10\n",
            "1000/1000 [==============================] - 529s 530ms/step - loss: 0.0263 - mean_squared_logarithmic_error: 0.0025 - val_loss: 0.0497 - val_mean_squared_logarithmic_error: 0.0055\n",
            "Epoch 6/10\n",
            "1000/1000 [==============================] - 534s 534ms/step - loss: 0.0175 - mean_squared_logarithmic_error: 0.0016 - val_loss: 0.0722 - val_mean_squared_logarithmic_error: 0.0084\n",
            "Epoch 7/10\n",
            "1000/1000 [==============================] - 533s 534ms/step - loss: 0.0217 - mean_squared_logarithmic_error: 0.0024 - val_loss: 0.1297 - val_mean_squared_logarithmic_error: 0.0191\n",
            "Epoch 8/10\n",
            "1000/1000 [==============================] - 531s 531ms/step - loss: 0.0294 - mean_squared_logarithmic_error: 0.0044 - val_loss: 0.0646 - val_mean_squared_logarithmic_error: 0.0109\n",
            "Epoch 9/10\n",
            "1000/1000 [==============================] - 540s 541ms/step - loss: 0.0188 - mean_squared_logarithmic_error: 0.0026 - val_loss: 0.0355 - val_mean_squared_logarithmic_error: 0.0043\n",
            "Epoch 10/10\n",
            "1000/1000 [==============================] - 534s 535ms/step - loss: 0.0124 - mean_squared_logarithmic_error: 0.0014 - val_loss: 0.0518 - val_mean_squared_logarithmic_error: 0.0074\n"
          ],
          "name": "stdout"
        }
      ]
    },
    {
      "cell_type": "code",
      "metadata": {
        "colab": {
          "base_uri": "https://localhost:8080/"
        },
        "id": "0gICuC5sZ8UU",
        "outputId": "26850e20-8e97-443d-83a1-49d783ae8da9"
      },
      "source": [
        "model.summary()"
      ],
      "execution_count": null,
      "outputs": [
        {
          "output_type": "stream",
          "text": [
            "Model: \"sequential_16\"\n",
            "_________________________________________________________________\n",
            "Layer (type)                 Output Shape              Param #   \n",
            "=================================================================\n",
            "conv1d_32 (Conv1D)           (None, None, 64)          704       \n",
            "_________________________________________________________________\n",
            "max_pooling1d_16 (MaxPooling (None, None, 64)          0         \n",
            "_________________________________________________________________\n",
            "conv1d_33 (Conv1D)           (None, None, 128)         41088     \n",
            "_________________________________________________________________\n",
            "global_max_pooling1d_16 (Glo (None, 128)               0         \n",
            "_________________________________________________________________\n",
            "dense_32 (Dense)             (None, 100)               12900     \n",
            "_________________________________________________________________\n",
            "dense_33 (Dense)             (None, 2)                 202       \n",
            "=================================================================\n",
            "Total params: 54,894\n",
            "Trainable params: 54,894\n",
            "Non-trainable params: 0\n",
            "_________________________________________________________________\n"
          ],
          "name": "stdout"
        }
      ]
    },
    {
      "cell_type": "code",
      "metadata": {
        "colab": {
          "base_uri": "https://localhost:8080/"
        },
        "id": "OT8xRIyvY3nu",
        "outputId": "c510faf9-14e7-45ed-afe5-2a7c96e23fc7"
      },
      "source": [
        "model.evaluate(test_gen,steps=test_steps,verbose=1)\n",
        "#print(t)"
      ],
      "execution_count": null,
      "outputs": [
        {
          "output_type": "stream",
          "text": [
            "59326/59326 [==============================] - 314s 5ms/step - loss: 0.0444 - mean_squared_logarithmic_error: 0.0066\n"
          ],
          "name": "stdout"
        },
        {
          "output_type": "execute_result",
          "data": {
            "text/plain": [
              "[0.044407498091459274, 0.006604023277759552]"
            ]
          },
          "metadata": {
            "tags": []
          },
          "execution_count": 27
        }
      ]
    },
    {
      "cell_type": "code",
      "metadata": {
        "id": "xbNUD15yAJlt"
      },
      "source": [
        "import matplotlib.pyplot as plt\n",
        "loss = history.history['loss']\n",
        "val_loss = history.history['val_loss']\n",
        "epochs = range(1, len(loss) + 1)\n",
        "plt.figure()\n",
        "plt.plot(epochs, loss, 'red', label='Training loss')\n",
        "plt.plot(epochs, val_loss, 'b', label='Validation loss')\n",
        "plt.title('Training and validation loss')\n",
        "plt.legend()\n",
        "plt.show()"
      ],
      "execution_count": null,
      "outputs": []
    },
    {
      "cell_type": "code",
      "metadata": {
        "id": "3tWaXoFRGnyk"
      },
      "source": [
        "#Timeseries forecasting\n",
        "train_pred=[]\n",
        "train_target=[]\n",
        "for i in range(len(zero_normalfirst[:3862])):\n",
        "  train_gens=generator(dataset,lookback=lookback,delay=delay,min_index=normal_index[i],max_index=normal_index[i]+zero_normalfirst[i],step=step,batch_size=zero_normalfirst[i]-19)\n",
        "  s,t=next(train_gens)\n",
        "  train_pred.append(model.predict(s))\n",
        "  train_target.append(t)"
      ],
      "execution_count": null,
      "outputs": []
    },
    {
      "cell_type": "code",
      "metadata": {
        "id": "ehhoXDbGc7Gd"
      },
      "source": [
        "a=0\n",
        "b=166\n",
        "pred=[]\n",
        "for i in range(len(train_pred)-1):\n",
        "  a=b\n",
        "  b=a+zero_normalfirst[i+1]\n",
        "  pred.append(np.concatenate((dataset[a:a+19],train_pred[i+1]),axis=0))\n"
      ],
      "execution_count": null,
      "outputs": []
    },
    {
      "cell_type": "code",
      "metadata": {
        "id": "nTGX_EZ9H1qk"
      },
      "source": [
        "pred.insert(0,np.concatenate((dataset[0:19],train_pred[0]),axis=0))"
      ],
      "execution_count": null,
      "outputs": []
    },
    {
      "cell_type": "code",
      "metadata": {
        "id": "FQXUclOqH1qm"
      },
      "source": [
        "preds=np.array(pred)\n",
        "np.shape(preds)"
      ],
      "execution_count": null,
      "outputs": []
    },
    {
      "cell_type": "code",
      "metadata": {
        "colab": {
          "base_uri": "https://localhost:8080/"
        },
        "id": "l_i_DmTeIL9u",
        "outputId": "08ed0ff9-21f4-449d-e861-24c74714eff9"
      },
      "source": [
        "#Only normal breaths with a total of 3,862 actual data\n",
        "breath_flow2=np.hstack(flow_normal[:3862])\n",
        "breath_pressure2=np.hstack(pressure_normal[:3862])\n",
        "dataset2 = np.stack((breath_flow2,breath_pressure2),axis=1)\n",
        "dataset2.astype('float32')\n",
        "print(np.shape(dataset2))\n",
        "\n",
        "mean2=dataset2.mean(axis=0)\n",
        "dataset2 -= mean2\n",
        "std2 = dataset2.std(axis=0)\n",
        "dataset2 /=std2"
      ],
      "execution_count": null,
      "outputs": [
        {
          "output_type": "stream",
          "text": [
            "(593449, 2)\n"
          ],
          "name": "stdout"
        }
      ]
    },
    {
      "cell_type": "code",
      "metadata": {
        "colab": {
          "base_uri": "https://localhost:8080/"
        },
        "id": "cfZy2R8ePyZK",
        "outputId": "3215f188-0ca9-479f-e932-f89437358a03"
      },
      "source": [
        "breath_flow3=np.hstack(flow_normal[3862:])\n",
        "breath_pressure3=np.hstack(pressure_normal[3862:])\n",
        "dataset3 = np.stack((breath_flow3,breath_pressure3),axis=1)\n",
        "dataset3.astype('float32')\n",
        "#print(np.shape(dataset3))"
      ],
      "execution_count": null,
      "outputs": [
        {
          "output_type": "stream",
          "text": [
            "(333320, 2)\n"
          ],
          "name": "stdout"
        }
      ]
    },
    {
      "cell_type": "code",
      "metadata": {
        "id": "f8eXm2QNPyZL"
      },
      "source": [
        "mean3=dataset3.mean(axis=0)\n",
        "dataset3 -= mean3\n",
        "std3 = dataset3.std(axis=0)\n",
        "dataset3 /=std3"
      ],
      "execution_count": null,
      "outputs": []
    },
    {
      "cell_type": "code",
      "metadata": {
        "id": "HmvbYS8_J3cG"
      },
      "source": [
        "for i in range(len(pred)):\n",
        "  dataset2=np.concatenate((dataset2,pred[i]),axis=0)"
      ],
      "execution_count": null,
      "outputs": []
    },
    {
      "cell_type": "code",
      "metadata": {
        "id": "jDYjfHOnM9Qk"
      },
      "source": [
        "from sklearn.svm import OneClassSVM\n",
        "#One-class SVM for 2-column vector on actual data\n",
        "\n",
        "svm = OneClassSVM(kernel='RBF',nu=0.0000001,gamma=0.15)\n",
        "svm.fit(dataset2)"
      ],
      "execution_count": null,
      "outputs": []
    },
    {
      "cell_type": "code",
      "metadata": {
        "id": "PHl4GTeaM9Q9"
      },
      "source": [
        "y_pred_train= svm.predict(dataset2)\n",
        "#How many normal breaths are predicted abnormal in training set\n",
        "n_error_train = y_pred_train[y_pred_train == -1].size\n",
        "n_error_train"
      ],
      "execution_count": null,
      "outputs": []
    },
    {
      "cell_type": "code",
      "metadata": {
        "id": "z68-FwOIM9Q9"
      },
      "source": [
        "y_pred_test= svm.predict(dataset3)\n",
        "#How many normal breaths are predicted abnormal in out of sample data\n",
        "n_error_test = y_pred_test[y_pred_test == -1].size\n",
        "n_error_test"
      ],
      "execution_count": null,
      "outputs": []
    },
    {
      "cell_type": "code",
      "metadata": {
        "id": "BtLoc0lsrvCN"
      },
      "source": [
        "y_hat= svm.predict(abdataset)\n",
        "#How many abnormal breaths are predicted normal in out of sample data\n",
        "n_error = y_hat[y_hat == 1].size\n",
        "n_error"
      ],
      "execution_count": null,
      "outputs": []
    },
    {
      "cell_type": "code",
      "metadata": {
        "id": "oUbdNftWPfY3"
      },
      "source": [
        ""
      ],
      "execution_count": null,
      "outputs": []
    },
    {
      "cell_type": "code",
      "metadata": {
        "id": "_rD1IAgMScRT"
      },
      "source": [
        "dataset3_train_split = int(dataset3.shape[0] * 0.7) # 70% training data\n",
        "dataset3_val_split = dataset3_train_split + int(dataset3.shape[0] * 0.2) #20% Val data\n",
        "dataset3_test_split = dataset3_val_split + int(dataset3.shape[0] * 0.1) #10% test data"
      ],
      "execution_count": null,
      "outputs": []
    },
    {
      "cell_type": "code",
      "metadata": {
        "id": "k5hD-mxUT8ep"
      },
      "source": [
        "mean3=dataset3[:dataset3_train_split].mean(axis=0)\n",
        "dataset3 -= mean3\n",
        "std3 = dataset3[:dataset3_train_split].std(axis=0)\n",
        "dataset3 /=std3"
      ],
      "execution_count": null,
      "outputs": []
    },
    {
      "cell_type": "code",
      "metadata": {
        "id": "HuY2JZe5UfnT"
      },
      "source": [
        "lookback = 19\n",
        "step = 1\n",
        "delay = 19\n",
        "batch_size = 128\n",
        "train_gen3 = generator(dataset3,lookback=lookback,delay=delay,min_index=0,max_index=dataset3_train_split,step=step,batch_size=batch_size)\n",
        "val_gen3 = generator(dataset3,lookback=lookback,delay=delay,min_index=dataset3_train_split+1 ,max_index=dataset3_val_split,step=step,batch_size=batch_size)\n",
        "test_gen3 = generator(dataset3,lookback=lookback,delay=delay,min_index=dataset3_val_split+1 ,max_index=None,step=step,batch_size=batch_size)"
      ],
      "execution_count": null,
      "outputs": []
    },
    {
      "cell_type": "code",
      "metadata": {
        "colab": {
          "base_uri": "https://localhost:8080/"
        },
        "id": "KTp6GTPqU0MG",
        "outputId": "f1f49b93-3e9c-4001-93b6-a6510b7c0e8c"
      },
      "source": [
        "val_steps3 = (dataset3_val_split -(dataset3_train_split + 1) - lookback)\n",
        "print(val_steps3)\n",
        "test_steps3 = (len(dataset3) - (dataset3_val_split + 1) - lookback)"
      ],
      "execution_count": null,
      "outputs": [
        {
          "output_type": "stream",
          "text": [
            "66644\n"
          ],
          "name": "stdout"
        }
      ]
    },
    {
      "cell_type": "code",
      "metadata": {
        "colab": {
          "base_uri": "https://localhost:8080/"
        },
        "id": "ZIu9m78yU-_e",
        "outputId": "23d643b1-ac5e-44eb-b724-2ff25ec808d3"
      },
      "source": [
        "from keras.models import Sequential\n",
        "from keras import layers\n",
        "from keras.optimizers import RMSprop\n",
        "import tensorflow as tf\n",
        "#1D CNN for normal breaths in the out of sample data\n",
        "model3 = Sequential()\n",
        "model3.add(layers.Conv1D(64, 5, activation='relu',input_shape=(None, dataset3.shape[-1])))\n",
        "model3.add(layers.MaxPooling1D(3))\n",
        "model3.add(layers.Conv1D(128, 5, activation='relu'))\n",
        "model3.add(layers.GlobalMaxPooling1D())\n",
        "model3.add(layers.Dense(2,activation='linear'))\n",
        "model3.compile(optimizer=RMSprop(), loss='mse',metrics=[tf.keras.metrics.MeanSquaredLogarithmicError()])\n",
        "history3 = model3.fit(train_gen3,steps_per_epoch=1000,epochs=10,validation_data=val_gen3,validation_steps=val_steps3)"
      ],
      "execution_count": null,
      "outputs": [
        {
          "output_type": "stream",
          "text": [
            "Epoch 1/10\n",
            "1000/1000 [==============================] - 301s 301ms/step - loss: 0.1295 - mean_squared_logarithmic_error: 0.0142 - val_loss: 0.0490 - val_mean_squared_logarithmic_error: 0.0062\n",
            "Epoch 2/10\n",
            "1000/1000 [==============================] - 299s 299ms/step - loss: 0.0267 - mean_squared_logarithmic_error: 0.0033 - val_loss: 0.0754 - val_mean_squared_logarithmic_error: 0.0164\n",
            "Epoch 3/10\n",
            "1000/1000 [==============================] - 299s 300ms/step - loss: 0.0478 - mean_squared_logarithmic_error: 0.0049 - val_loss: 0.0338 - val_mean_squared_logarithmic_error: 0.0040\n",
            "Epoch 4/10\n",
            "1000/1000 [==============================] - 300s 300ms/step - loss: 0.0226 - mean_squared_logarithmic_error: 0.0016 - val_loss: 0.0881 - val_mean_squared_logarithmic_error: 0.0224\n",
            "Epoch 5/10\n",
            "1000/1000 [==============================] - 298s 298ms/step - loss: 0.0423 - mean_squared_logarithmic_error: 0.0035 - val_loss: 0.0335 - val_mean_squared_logarithmic_error: 0.0045\n",
            "Epoch 6/10\n",
            "1000/1000 [==============================] - 301s 301ms/step - loss: 0.0236 - mean_squared_logarithmic_error: 0.0019 - val_loss: 0.0893 - val_mean_squared_logarithmic_error: 0.0185\n",
            "Epoch 7/10\n",
            "1000/1000 [==============================] - 302s 302ms/step - loss: 0.0436 - mean_squared_logarithmic_error: 0.0033 - val_loss: 0.0385 - val_mean_squared_logarithmic_error: 0.0057\n",
            "Epoch 8/10\n",
            "1000/1000 [==============================] - 301s 301ms/step - loss: 0.0261 - mean_squared_logarithmic_error: 0.0023 - val_loss: 0.1032 - val_mean_squared_logarithmic_error: 0.0202\n",
            "Epoch 9/10\n",
            "1000/1000 [==============================] - 302s 302ms/step - loss: 0.0418 - mean_squared_logarithmic_error: 0.0032 - val_loss: 0.0341 - val_mean_squared_logarithmic_error: 0.0056\n",
            "Epoch 10/10\n",
            "1000/1000 [==============================] - 302s 302ms/step - loss: 0.0340 - mean_squared_logarithmic_error: 0.0030 - val_loss: 0.1389 - val_mean_squared_logarithmic_error: 0.0332\n"
          ],
          "name": "stdout"
        }
      ]
    },
    {
      "cell_type": "code",
      "metadata": {
        "colab": {
          "base_uri": "https://localhost:8080/"
        },
        "id": "PjJ-yAQegrp9",
        "outputId": "1447c8dc-682a-495e-e4dc-97efe5453c68"
      },
      "source": [
        "model3.evaluate(test_gen3,steps=test_steps3,verbose=1)"
      ],
      "execution_count": null,
      "outputs": [
        {
          "output_type": "stream",
          "text": [
            "33313/33313 [==============================] - 175s 5ms/step - loss: 0.2036 - mean_squared_logarithmic_error: 0.0225\n"
          ],
          "name": "stdout"
        },
        {
          "output_type": "execute_result",
          "data": {
            "text/plain": [
              "[0.20359238982200623, 0.022507475689053535]"
            ]
          },
          "metadata": {
            "tags": []
          },
          "execution_count": 70
        }
      ]
    },
    {
      "cell_type": "code",
      "metadata": {
        "id": "RF5y_OMph3Ky"
      },
      "source": [
        "train_pred3=[]\n",
        "train_target3=[]\n",
        "for i in range(len(zero_normalfirst[3862:])):\n",
        "  train_gens3=generator(dataset3,lookback=lookback,delay=delay,min_index=normal_index[3862+i],max_index=normal_index[3862+i]+zero_normalfirst[3862+i],step=step,batch_size=zero_normalfirst[3862+i]-19)\n",
        "  s3,t3=next(train_gens3)\n",
        "  train_pred3.append(model3.predict(s3))\n",
        "  train_target3.append(t3)"
      ],
      "execution_count": null,
      "outputs": []
    },
    {
      "cell_type": "code",
      "metadata": {
        "id": "7GOf8FbZkStH"
      },
      "source": [
        "a=0\n",
        "b=108\n",
        "pred3=[]\n",
        "for i in range(len(train_pred3)-1):\n",
        "  a=b\n",
        "  b=a+zero_normalfirst[3862+i+1]\n",
        "  pred3.append(np.concatenate((dataset3[a:a+19],train_pred3[i+1]),axis=0))"
      ],
      "execution_count": null,
      "outputs": []
    },
    {
      "cell_type": "code",
      "metadata": {
        "id": "qI4oLMDXpgm7"
      },
      "source": [
        "pred3.insert(0,np.concatenate((dataset3[0:19],train_pred3[0]),axis=0))"
      ],
      "execution_count": null,
      "outputs": []
    },
    {
      "cell_type": "code",
      "metadata": {
        "id": "nEC89uzyqqXc"
      },
      "source": [
        "for i in range(len(pred3)):\n",
        "  dataset3=np.concatenate((dataset3,pred3[i]),axis=0)"
      ],
      "execution_count": null,
      "outputs": []
    },
    {
      "cell_type": "code",
      "metadata": {
        "id": "mLaFPP4eqIya"
      },
      "source": [
        "predicted3=dataset3[333320:]"
      ],
      "execution_count": null,
      "outputs": []
    },
    {
      "cell_type": "code",
      "metadata": {
        "id": "Cyea1Xz2ppny"
      },
      "source": [
        "valnordata=np.stack((dataset3,predicted3),axis=1)"
      ],
      "execution_count": null,
      "outputs": []
    },
    {
      "cell_type": "code",
      "metadata": {
        "id": "VgQ-pao3vXhB"
      },
      "source": [
        "valnordata=np.reshape(valnordata,(333320,4)) #4-column vector for normal breaths in the out of sample data"
      ],
      "execution_count": null,
      "outputs": []
    },
    {
      "cell_type": "code",
      "metadata": {
        "id": "2cLzJKRbw2CN"
      },
      "source": [
        ""
      ],
      "execution_count": null,
      "outputs": []
    },
    {
      "cell_type": "code",
      "metadata": {
        "id": "WLbLIo-5w2TL"
      },
      "source": [
        "abdataset_train_split = int(abdataset.shape[0] * 0.7) # 70% training data\n",
        "abdataset_val_split = abdataset_train_split + int(abdataset.shape[0] * 0.2) #20% Val data\n",
        "abdataset_test_split = abdataset_val_split + int(abdataset.shape[0] * 0.1) #10% test data"
      ],
      "execution_count": null,
      "outputs": []
    },
    {
      "cell_type": "code",
      "metadata": {
        "id": "zf0zgiEIxNxx"
      },
      "source": [
        "abmean=abdataset[:abdataset_train_split].mean(axis=0)\n",
        "abdataset -= abmean\n",
        "abstd = abdataset[:abdataset_train_split].std(axis=0)\n",
        "abdataset /=abstd"
      ],
      "execution_count": null,
      "outputs": []
    },
    {
      "cell_type": "code",
      "metadata": {
        "id": "ia1LgoBixwaS"
      },
      "source": [
        "lookback = 19\n",
        "step = 1\n",
        "delay = 19\n",
        "batch_size = 128\n",
        "abtrain_gen = generator(abdataset,lookback=lookback,delay=delay,min_index=0,max_index=abdataset_train_split,step=step,batch_size=batch_size)\n",
        "abval_gen = generator(abdataset,lookback=lookback,delay=delay,min_index=abdataset_train_split+1 ,max_index=abdataset_val_split,step=step,batch_size=batch_size)\n",
        "abtest_gen = generator(abdataset,lookback=lookback,delay=delay,min_index=abdataset_val_split+1 ,max_index=None,step=step,batch_size=batch_size)"
      ],
      "execution_count": null,
      "outputs": []
    },
    {
      "cell_type": "code",
      "metadata": {
        "colab": {
          "base_uri": "https://localhost:8080/"
        },
        "id": "oKrjzulgykyE",
        "outputId": "2e977eab-a7b3-417f-deaf-e85d19cbc310"
      },
      "source": [
        "abval_steps = (abdataset_val_split -(abdataset_train_split + 1) - lookback)\n",
        "print(abval_steps)\n",
        "abtest_steps = (len(abdataset) - (abdataset_val_split + 1) - lookback)"
      ],
      "execution_count": null,
      "outputs": [
        {
          "output_type": "stream",
          "text": [
            "58334\n"
          ],
          "name": "stdout"
        }
      ]
    },
    {
      "cell_type": "code",
      "metadata": {
        "colab": {
          "base_uri": "https://localhost:8080/"
        },
        "id": "ATiRqnf8ywdk",
        "outputId": "04f56adb-d60a-476c-9e9d-db766d0c41e7"
      },
      "source": [
        "from keras.models import Sequential\n",
        "from keras import layers\n",
        "from keras.optimizers import RMSprop\n",
        "import tensorflow as tf\n",
        "#1D CNN for PVA in the out of sample data\n",
        "abmodel = Sequential()\n",
        "abmodel.add(layers.Conv1D(64, 5, activation='relu',input_shape=(None, abdataset.shape[-1])))\n",
        "abmodel.add(layers.MaxPooling1D(3))\n",
        "abmodel.add(layers.Conv1D(128, 5, activation='relu'))\n",
        "abmodel.add(layers.GlobalMaxPooling1D())\n",
        "abmodel.add(layers.Dense(2,activation='linear'))\n",
        "abmodel.compile(optimizer=RMSprop(), loss='mse',metrics=[tf.keras.metrics.MeanSquaredLogarithmicError()])\n",
        "abhistory = abmodel.fit(abtrain_gen,steps_per_epoch=1000,epochs=10,validation_data=abval_gen,validation_steps=abval_steps)"
      ],
      "execution_count": null,
      "outputs": [
        {
          "output_type": "stream",
          "text": [
            "Epoch 1/10\n",
            "1000/1000 [==============================] - 266s 266ms/step - loss: 0.1096 - mean_squared_logarithmic_error: 0.0138 - val_loss: 0.0341 - val_mean_squared_logarithmic_error: 0.0049\n",
            "Epoch 2/10\n",
            "1000/1000 [==============================] - 262s 262ms/step - loss: 0.0445 - mean_squared_logarithmic_error: 0.0042 - val_loss: 0.0307 - val_mean_squared_logarithmic_error: 0.0036\n",
            "Epoch 3/10\n",
            "1000/1000 [==============================] - 262s 262ms/step - loss: 0.0359 - mean_squared_logarithmic_error: 0.0035 - val_loss: 0.0268 - val_mean_squared_logarithmic_error: 0.0032\n",
            "Epoch 4/10\n",
            "1000/1000 [==============================] - 260s 261ms/step - loss: 0.0368 - mean_squared_logarithmic_error: 0.0030 - val_loss: 0.0476 - val_mean_squared_logarithmic_error: 0.0092\n",
            "Epoch 5/10\n",
            "1000/1000 [==============================] - 260s 260ms/step - loss: 0.0354 - mean_squared_logarithmic_error: 0.0032 - val_loss: 0.0286 - val_mean_squared_logarithmic_error: 0.0035\n",
            "Epoch 6/10\n",
            "1000/1000 [==============================] - 261s 261ms/step - loss: 0.0313 - mean_squared_logarithmic_error: 0.0031 - val_loss: 0.0245 - val_mean_squared_logarithmic_error: 0.0028\n",
            "Epoch 7/10\n",
            "1000/1000 [==============================] - 261s 261ms/step - loss: 0.0402 - mean_squared_logarithmic_error: 0.0029 - val_loss: 0.0373 - val_mean_squared_logarithmic_error: 0.0036\n",
            "Epoch 8/10\n",
            "1000/1000 [==============================] - 261s 261ms/step - loss: 0.0291 - mean_squared_logarithmic_error: 0.0027 - val_loss: 0.0317 - val_mean_squared_logarithmic_error: 0.0033\n",
            "Epoch 9/10\n",
            "1000/1000 [==============================] - 260s 260ms/step - loss: 0.0348 - mean_squared_logarithmic_error: 0.0032 - val_loss: 0.0269 - val_mean_squared_logarithmic_error: 0.0029\n",
            "Epoch 10/10\n",
            "1000/1000 [==============================] - 264s 264ms/step - loss: 0.0316 - mean_squared_logarithmic_error: 0.0030 - val_loss: 0.0337 - val_mean_squared_logarithmic_error: 0.0051\n"
          ],
          "name": "stdout"
        }
      ]
    },
    {
      "cell_type": "code",
      "metadata": {
        "id": "KiUJgTDj1MuU"
      },
      "source": [
        "model3.evaluate(test_gen3,steps=test_steps3,verbose=1)"
      ],
      "execution_count": null,
      "outputs": []
    },
    {
      "cell_type": "code",
      "metadata": {
        "id": "Sa8YWGSl2NxF"
      },
      "source": [
        "abnormal_index=zero_abnormalfirst[:]\n",
        "abnormal_index.insert(0,0)"
      ],
      "execution_count": null,
      "outputs": []
    },
    {
      "cell_type": "code",
      "metadata": {
        "id": "QsWMPOzT1RjP"
      },
      "source": [
        "abtrain_pred=[]\n",
        "abtrain_target=[]\n",
        "for i in range(len(zero_abnormalfirst[:])):\n",
        "  abtrain_gens=generator(abdataset,lookback=lookback,delay=delay,min_index=abnormal_index[i],max_index=abnormal_index[i]+zero_abnormalfirst[i],step=step,batch_size=zero_abnormalfirst[i]-19)\n",
        "  abs,abt=next(abtrain_gens)\n",
        "  abtrain_pred.append(abmodel.predict(abs))\n",
        "  abtrain_target.append(abt)"
      ],
      "execution_count": null,
      "outputs": []
    },
    {
      "cell_type": "code",
      "metadata": {
        "id": "g2Tgdg061db5"
      },
      "source": [
        "a=0\n",
        "b=131\n",
        "abpred=[]\n",
        "for i in range(len(abtrain_pred)-1):\n",
        "  a=b\n",
        "  b=a+zero_abnormalfirst[i+1]\n",
        "  abpred.append(np.concatenate((abdataset[a:a+19],abtrain_pred[i+1]),axis=0))"
      ],
      "execution_count": null,
      "outputs": []
    },
    {
      "cell_type": "code",
      "metadata": {
        "id": "RZARvilN4y8M"
      },
      "source": [
        "abpred.insert(0,np.concatenate((abdataset[0:19],abtrain_pred[0]),axis=0))"
      ],
      "execution_count": null,
      "outputs": []
    },
    {
      "cell_type": "code",
      "metadata": {
        "id": "fFmSMOKb4zNY"
      },
      "source": [
        "for i in range(len(abpred)):\n",
        "  abdataset=np.concatenate((abdataset,abpred[i]),axis=0)"
      ],
      "execution_count": null,
      "outputs": []
    },
    {
      "cell_type": "code",
      "metadata": {
        "id": "8-cG5gj1608k"
      },
      "source": [
        "abpredicted=abdataset[291772:]"
      ],
      "execution_count": null,
      "outputs": []
    },
    {
      "cell_type": "code",
      "metadata": {
        "id": "uyqD3Ty57KPR"
      },
      "source": [
        "aboutdata=np.stack((abdataset2,abpredicted),axis=1)"
      ],
      "execution_count": null,
      "outputs": []
    },
    {
      "cell_type": "code",
      "metadata": {
        "id": "jGlumuk--ctZ"
      },
      "source": [
        "aboutdata=np.reshape(aboutdata,(291772,4)) #4-column vector for PVA in the out of sample data"
      ],
      "execution_count": null,
      "outputs": []
    },
    {
      "cell_type": "code",
      "metadata": {
        "id": "NxH4Wh7GUrts"
      },
      "source": [
        ""
      ],
      "execution_count": null,
      "outputs": []
    },
    {
      "cell_type": "code",
      "metadata": {
        "colab": {
          "base_uri": "https://localhost:8080/"
        },
        "id": "mX7LTNwSUr_2",
        "outputId": "e724c75b-826c-40e2-fa91-fe47c634b33d"
      },
      "source": [
        "np.shape(dataset2)"
      ],
      "execution_count": null,
      "outputs": [
        {
          "output_type": "execute_result",
          "data": {
            "text/plain": [
              "(1186898, 2)"
            ]
          },
          "metadata": {
            "tags": []
          },
          "execution_count": 50
        }
      ]
    },
    {
      "cell_type": "code",
      "metadata": {
        "id": "QPtzci_8Ur_4"
      },
      "source": [
        "predicted=dataset2[593449:]"
      ],
      "execution_count": null,
      "outputs": []
    },
    {
      "cell_type": "code",
      "metadata": {
        "id": "kv2zvTh6Nmnm"
      },
      "source": [
        "alldata=np.stack((dataset2,predicted),axis=1)"
      ],
      "execution_count": null,
      "outputs": []
    },
    {
      "cell_type": "code",
      "metadata": {
        "id": "FaKO-jQBN0cx"
      },
      "source": [
        "alldata=np.reshape(alldata,(593449,4)) #4-column vector for normal breaths in the actual data"
      ],
      "execution_count": null,
      "outputs": []
    },
    {
      "cell_type": "code",
      "metadata": {
        "id": "lh2HWrDAvGgi"
      },
      "source": [
        "from sklearn.svm import OneClassSVM\n",
        "#One-class SVM for 4-column vector on actual as well as predicted data\n",
        "\n",
        "svm = OneClassSVM(kernel='RBF',nu=0.0000001,gamma=0.15)\n",
        "svm.fit(alldata)"
      ],
      "execution_count": null,
      "outputs": []
    },
    {
      "cell_type": "code",
      "metadata": {
        "id": "iXKnhGJjfjT9"
      },
      "source": [
        "y_pred_train= svm.predict(alldata)\n",
        "#How many normal breaths are predicted abnormal in training set\n",
        "n_error_train = y_pred_train[y_pred_train == -1].size\n",
        "n_error_train"
      ],
      "execution_count": null,
      "outputs": []
    },
    {
      "cell_type": "code",
      "metadata": {
        "id": "mdp7IBZXuPMM"
      },
      "source": [
        "y_pred_test= svm.predict(valnordata)\n",
        "#How many normal breaths are predicted abnormal in out of sample data\n",
        "n_error_test = y_pred_test[y_pred_test == -1].size\n",
        "n_error_test"
      ],
      "execution_count": null,
      "outputs": []
    },
    {
      "cell_type": "code",
      "metadata": {
        "id": "-Qu7ShY28BkM"
      },
      "source": [
        "y_hat= svm.predict(aboutdata)\n",
        "#How many abnormal breaths are predicted normal in out of sample data\n",
        "n_error = y_hat[y_hat == 1].size\n",
        "n_error"
      ],
      "execution_count": null,
      "outputs": []
    },
    {
      "cell_type": "code",
      "metadata": {
        "id": "TkMYpdtBXtEx"
      },
      "source": [
        "#Locating when the PVA happened within a breath against time sequences\n",
        "counter=[]\n",
        "a=0\n",
        "b=131\n",
        "for i in range(len(flow_abnormal)-1):\n",
        "  a=b\n",
        "  b=a+len(flow_abnormal[i+1])\n",
        "  if -1 in y_hat[a:b]:\n",
        "    counter.append(i)\n",
        "print(counter)"
      ],
      "execution_count": null,
      "outputs": []
    },
    {
      "cell_type": "code",
      "metadata": {
        "colab": {
          "base_uri": "https://localhost:8080/"
        },
        "id": "xm8UzCj2YGZm",
        "outputId": "02831dc0-9156-40d9-d236-0bc6426cf380"
      },
      "source": [
        "y_hat[len(flow_abnormal[1]):len(flow_abnormal[1])+len(flow_abnormal[2])]"
      ],
      "execution_count": null,
      "outputs": [
        {
          "output_type": "execute_result",
          "data": {
            "text/plain": [
              "array([ 1,  1,  1,  1,  1,  1,  1,  1,  1,  1,  1,  1,  1,  1,  1,  1,  1,\n",
              "       -1, -1, -1,  1,  1,  1,  1,  1,  1,  1,  1,  1,  1,  1,  1,  1,  1,\n",
              "        1,  1,  1,  1,  1,  1,  1,  1,  1,  1,  1,  1,  1,  1,  1,  1,  1,\n",
              "        1,  1,  1,  1,  1,  1,  1,  1,  1,  1,  1,  1,  1,  1,  1,  1,  1,\n",
              "        1,  1,  1,  1,  1,  1,  1,  1,  1,  1,  1,  1,  1,  1,  1,  1,  1,\n",
              "        1,  1,  1,  1,  1,  1,  1,  1,  1,  1,  1,  1,  1,  1,  1,  1,  1,\n",
              "        1,  1,  1,  1,  1,  1,  1,  1,  1,  1])"
            ]
          },
          "metadata": {
            "tags": []
          },
          "execution_count": 37
        }
      ]
    },
    {
      "cell_type": "code",
      "metadata": {
        "colab": {
          "base_uri": "https://localhost:8080/",
          "height": 265
        },
        "id": "brdt2B0WYUXX",
        "outputId": "44f20225-1c02-4c3f-96fe-ce36f0a18d5c"
      },
      "source": [
        "import matplotlib.pyplot as plt\n",
        "f,=plt.plot(abdataset[131:296,0],label='flow')\n",
        "p,=plt.plot(abdataset[131:296,1],label='pressure')\n",
        "plt.legend(handles=[f,p])\n",
        "plt.axvline(counter[0],c='r')\n",
        "plt.axvline(counter[1],c='r')\n",
        "plt.axvline(counter[2],c='r')\n",
        "\n",
        "plt.show()"
      ],
      "execution_count": null,
      "outputs": [
        {
          "output_type": "display_data",
          "data": {
            "image/png": "[encoded data removed]",
            "text/plain": [
              "<Figure size 432x288 with 1 Axes>"
            ]
          },
          "metadata": {
            "tags": [],
            "needs_background": "light"
          }
        }
      ]
    }
  ]
}